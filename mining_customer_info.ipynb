{
 "cells": [
  {
   "cell_type": "code",
   "execution_count": 26,
   "id": "d602ec2c",
   "metadata": {},
   "outputs": [],
   "source": [
    "import pandas as pd"
   ]
  },
  {
   "cell_type": "code",
   "execution_count": 27,
   "id": "b3e4b5ec",
   "metadata": {},
   "outputs": [
    {
     "name": "stdout",
     "output_type": "stream",
     "text": [
      "You're connected to database:  ('dmhw1',)\n",
      "data is fetched....\n"
     ]
    }
   ],
   "source": [
    "import mysql.connector as msql\n",
    "from mysql.connector import Error\n",
    "dataset = []\n",
    "try:\n",
    "    conn = msql.connect(host='localhost', database='DMHW1', user='root', password='TP6XU4JO3@@')\n",
    "    if conn.is_connected():\n",
    "        mycursor = conn.cursor()\n",
    "        mycursor.execute(\"select database();\")\n",
    "        record = mycursor.fetchone()\n",
    "        print(\"You're connected to database: \", record)\n",
    "        mycursor.execute(\"\"\" select \n",
    "                                d.customer_id,\n",
    "                                d.state_province, \n",
    "                                d.yearly_income, \n",
    "                                d.gender,\n",
    "                                CONCAT('totally ',d.total_children,' children') as 'total_children',\n",
    "                                CONCAT('own ', d.num_cars_owned ,' cars') as 'owned_cars',\n",
    "                                CONCAT('totally ', d.num_children_at_home,' children at home') as 'children_at_home',\n",
    "                                d.education, \n",
    "                                d.occupation, \n",
    "                                CASE WHEN d.houseowner = 'Y' then 'Is houseowner'\n",
    "                                else 'Is not houseowner'\n",
    "                                end as 'houseowner'\n",
    "                                from DMHW1.sales_fact_1998 a \n",
    "                                join DMHW1.product c \n",
    "                                on a.product_id = c.product_id \n",
    "                                join DMHW1.customer d \n",
    "                                on a.customer_id = d.customer_id \n",
    "                                union \n",
    "                                select \n",
    "                                d.customer_id,\n",
    "                                d.state_province,\n",
    "                                d.yearly_income, \n",
    "                                d.gender, \n",
    "                                CONCAT('totally ',d.total_children,' children') as 'total_children',\n",
    "                                CONCAT('own ', d.num_cars_owned ,' cars') as 'owned_cars',\n",
    "                                CONCAT('totally ', d.num_children_at_home,' children at home') as 'children_at_home',\n",
    "                                d.education, \n",
    "                                d.occupation, \n",
    "                                CASE WHEN d.houseowner = 'Y' then 'Is houseowner'\n",
    "                                else 'Is not houseowner'\n",
    "                                end as 'houseowner'\n",
    "                                from DMHW1.sales_fact_dec_1998 a \n",
    "                                join DMHW1.product c \n",
    "                                on a.product_id = c.product_id \n",
    "                                join DMHW1.customer d \n",
    "                                on a.customer_id = d.customer_id \n",
    "                             \"\"\")\n",
    "        print(\"data is fetched....\")\n",
    "        #loop through the data fetched\n",
    "        results = mycursor.fetchall()\n",
    "        a = dict()\n",
    "        for item in results:\n",
    "            row = list(item)\n",
    "            dicKey = \"\"\n",
    "            for i in range(len(row)):\n",
    "                if type(row[i]) is not str:\n",
    "                    row[i] = str(row[i])\n",
    "                if i == 0:\n",
    "                    dicKey = row[i]\n",
    "                    if dicKey not in a.keys():\n",
    "                        a[dicKey] = []\n",
    "                elif i != 0:\n",
    "                    if dicKey in a.keys(): \n",
    "                        ls = a[dicKey]\n",
    "                        ls.append(row[i])\n",
    "                        a[dicKey] = ls\n",
    "            #print(a[dicKey])\n",
    "        for key,value in a.items():\n",
    "            dataset.append(value)\n",
    "except Error as e:\n",
    "            print(\"Error while connecting to MySQL\", e)"
   ]
  },
  {
   "cell_type": "code",
   "execution_count": 28,
   "id": "dd4accc3",
   "metadata": {},
   "outputs": [],
   "source": [
    "#from apyori import apriori\n",
    "from mlxtend.frequent_patterns import fpgrowth\n",
    "from mlxtend.preprocessing import TransactionEncoder\n",
    "te = TransactionEncoder()\n",
    "te_ary = te.fit(dataset).transform(dataset)\n",
    "df = pd.DataFrame(te_ary, columns=te.columns_)"
   ]
  },
  {
   "cell_type": "code",
   "execution_count": 29,
   "id": "cd4f7357",
   "metadata": {},
   "outputs": [],
   "source": [
    "frequent_sets = fpgrowth(df, min_support=0.05,use_colnames=True) "
   ]
  },
  {
   "cell_type": "code",
   "execution_count": 30,
   "id": "1dcd0ed0",
   "metadata": {},
   "outputs": [],
   "source": [
    "from mlxtend.frequent_patterns import association_rules\n",
    "rules = association_rules(frequent_sets, metric='confidence', min_threshold=0.9)\n",
    "#rules[\"antecedent_len\"] = rules[\"antecedents\"].apply(lambda x:len(x))\n",
    "#rules[\"consequent_len\"] = rules[\"consequents\"].apply(lambda x:len(x))\n",
    "rules.sort_values(by=['confidence','support'], ascending=False).to_csv('customer_mining.csv')\n",
    "\n"
   ]
  }
 ],
 "metadata": {
  "kernelspec": {
   "display_name": "Python (env)",
   "language": "python",
   "name": "env"
  },
  "language_info": {
   "codemirror_mode": {
    "name": "ipython",
    "version": 3
   },
   "file_extension": ".py",
   "mimetype": "text/x-python",
   "name": "python",
   "nbconvert_exporter": "python",
   "pygments_lexer": "ipython3",
   "version": "3.9.7"
  }
 },
 "nbformat": 4,
 "nbformat_minor": 5
}
