{
 "cells": [
  {
   "cell_type": "code",
   "execution_count": 106,
   "id": "5dde3e51",
   "metadata": {},
   "outputs": [],
   "source": [
    "import pandas as pd"
   ]
  },
  {
   "cell_type": "code",
   "execution_count": 107,
   "id": "bf1ede5a",
   "metadata": {},
   "outputs": [
    {
     "name": "stdout",
     "output_type": "stream",
     "text": [
      "You're connected to database:  ('dmhw1',)\n",
      "data is fetched....\n"
     ]
    }
   ],
   "source": [
    "import mysql.connector as msql\n",
    "from mysql.connector import Error\n",
    "dataset = []\n",
    "try:\n",
    "    conn = msql.connect(host='localhost', database='DMHW1', user='root', password='TP6XU4JO3@@')\n",
    "    if conn.is_connected():\n",
    "        mycursor = conn.cursor()\n",
    "        mycursor.execute(\"select database();\")\n",
    "        record = mycursor.fetchone()\n",
    "        print(\"You're connected to database: \", record)\n",
    "        mycursor.execute(\"\"\" select\n",
    "                                pc.product_category,\n",
    "                                #d.state_province, \n",
    "                                d.yearly_income, \n",
    "                                d.gender,\n",
    "                                CONCAT('totally ',d.total_children,' children') as 'total_children',\n",
    "                                CONCAT('own ', d.num_cars_owned ,' cars') as 'owned_cars',\n",
    "                                CONCAT('totally ', d.num_children_at_home,' children at home') as 'children_at_home',\n",
    "                                d.education\n",
    "                                #d.occupation, \n",
    "                                #CASE WHEN d.houseowner = 'Y' then 'Is houseowner'\n",
    "                                #else 'Is not houseowner'\n",
    "                                #end as 'houseowner'\n",
    "                                from DMHW1.sales_fact_1998 a \n",
    "                                join DMHW1.product c \n",
    "                                on a.product_id = c.product_id \n",
    "                                join DMHW1.product_class pc\n",
    "                                on c.product_class_id = pc.product_class_id\n",
    "                                join DMHW1.customer d \n",
    "                                on a.customer_id = d.customer_id \n",
    "                                union \n",
    "                                select \n",
    "                                pc.product_category,\n",
    "                                #d.state_province, \n",
    "                                d.yearly_income, \n",
    "                                d.gender,\n",
    "                                CONCAT('totally ',d.total_children,' children') as 'total_children',\n",
    "                                CONCAT('own ', d.num_cars_owned ,' cars') as 'owned_cars',\n",
    "                                CONCAT('totally ', d.num_children_at_home,' children at home') as 'children_at_home',\n",
    "                                d.education\n",
    "                                #d.occupation, \n",
    "                                #CASE WHEN d.houseowner = 'Y' then 'Is houseowner'\n",
    "                                #else 'Is not houseowner'\n",
    "                                #end as 'houseowner'\n",
    "                                from DMHW1.sales_fact_dec_1998 a \n",
    "                                join DMHW1.product c \n",
    "                                on a.product_id = c.product_id \n",
    "                                join DMHW1.product_class pc\n",
    "                                on c.product_class_id = pc.product_class_id\n",
    "                                join DMHW1.customer d \n",
    "                                on a.customer_id = d.customer_id\n",
    "                         \"\"\")\n",
    "        print(\"data is fetched....\")\n",
    "        #loop through the data fetched\n",
    "        results = mycursor.fetchall()\n",
    "        a = dict()\n",
    "        for item in results:\n",
    "            row = list(item)\n",
    "            lis = []\n",
    "            for i in range(len(row)):\n",
    "                if type(row[i]) is not str:\n",
    "                    row[i] = str(row[i])\n",
    "                lis.append(row[i])\n",
    "            dataset.append(lis)\n",
    "except Error as e:\n",
    "            print(\"Error while connecting to MySQL\", e)"
   ]
  },
  {
   "cell_type": "code",
   "execution_count": 108,
   "id": "c7588a9d",
   "metadata": {},
   "outputs": [],
   "source": [
    "#from apyori import apriori\n",
    "from mlxtend.frequent_patterns import fpgrowth\n",
    "from mlxtend.preprocessing import TransactionEncoder\n",
    "te = TransactionEncoder()\n",
    "te_ary = te.fit(dataset).transform(dataset)\n",
    "df = pd.DataFrame(te_ary, columns=te.columns_)"
   ]
  },
  {
   "cell_type": "code",
   "execution_count": 109,
   "id": "74091305",
   "metadata": {},
   "outputs": [],
   "source": [
    "frequent_sets = fpgrowth(df, min_support=0.0001,use_colnames=True) \n"
   ]
  },
  {
   "cell_type": "code",
   "execution_count": 110,
   "id": "1d1262df",
   "metadata": {},
   "outputs": [],
   "source": [
    "from mlxtend.frequent_patterns import association_rules\n",
    "rules = association_rules(frequent_sets, metric='confidence', min_threshold=0.8)\n",
    "rules[\"antecedent_len\"] = rules[\"antecedents\"].apply(lambda x:len(x))\n",
    "rules[\"consequent_len\"] = rules[\"consequents\"].apply(lambda x:len(x))\n",
    "rules[(rules[\"antecedent_len\"] >= 1)& (rules[\"consequent_len\"] >=1)].sort_values(by=['confidence'], ascending=False).to_csv('quantitive_rules_6.csv')\n"
   ]
  }
 ],
 "metadata": {
  "kernelspec": {
   "display_name": "Python (env)",
   "language": "python",
   "name": "env"
  },
  "language_info": {
   "codemirror_mode": {
    "name": "ipython",
    "version": 3
   },
   "file_extension": ".py",
   "mimetype": "text/x-python",
   "name": "python",
   "nbconvert_exporter": "python",
   "pygments_lexer": "ipython3",
   "version": "3.9.7"
  }
 },
 "nbformat": 4,
 "nbformat_minor": 5
}
