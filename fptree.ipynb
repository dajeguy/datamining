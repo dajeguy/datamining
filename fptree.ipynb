{
 "cells": [
  {
   "cell_type": "code",
   "execution_count": 6,
   "id": "283604e2",
   "metadata": {},
   "outputs": [],
   "source": [
    "import pandas as pd"
   ]
  },
  {
   "cell_type": "code",
   "execution_count": 7,
   "id": "4389aca2",
   "metadata": {},
   "outputs": [
    {
     "name": "stdout",
     "output_type": "stream",
     "text": [
      "You're connected to database:  ('dmhw1',)\n",
      "data is fetched....\n"
     ]
    }
   ],
   "source": [
    "import mysql.connector as msql\n",
    "from mysql.connector import Error\n",
    "dataset = []\n",
    "try:\n",
    "    conn = msql.connect(host='localhost', database='DMHW1', user='root', password='TP6XU4JO3@@')\n",
    "    if conn.is_connected():\n",
    "        mycursor = conn.cursor()\n",
    "        mycursor.execute(\"select database();\")\n",
    "        record = mycursor.fetchone()\n",
    "        print(\"You're connected to database: \", record)\n",
    "        mycursor.execute(\"\"\"select \n",
    "concat(d.fname,IFNULL(d.mi,''),d.lname) as 'customer_name',\n",
    "c.product_name\n",
    "from DMHW1.sales_fact_1998 a join DMHW1.time_by_day b \n",
    "on a.time_id = b.time_id \n",
    "join DMHW1.product c \n",
    "on a.product_id = c.product_id \n",
    "join DMHW1.customer d\n",
    "on a.customer_id = d.customer_id\n",
    "union \n",
    "select  \n",
    "concat(d.fname,IFNULL(d.mi,''),d.lname) as 'customer_name',\n",
    "c.product_name\n",
    "from DMHW1.sales_fact_dec_1998 a join DMHW1.time_by_day b \n",
    "on a.time_id = b.time_id \n",
    "join DMHW1.product c \n",
    "on a.product_id = c.product_id\n",
    "join DMHW1.customer d\n",
    "on a.customer_id = d.customer_id\n",
    "group by customer_name, product_name limit 3300\n",
    "                        \"\"\")\n",
    "        print(\"data is fetched....\")\n",
    "        #loop through the data fetched\n",
    "        results = mycursor.fetchall()\n",
    "        a = dict()\n",
    "        for item in results:\n",
    "            row = list(item)\n",
    "            for i in range(len(row)):\n",
    "                if type(row[i]) is not str:\n",
    "                    row[i] = str(row[i])\n",
    "                if i == 0:\n",
    "                    if row[i] not in a.keys():\n",
    "                        a[row[i]] = []\n",
    "                elif i != 0:\n",
    "                    #print(row[i])\n",
    "                    if row[i-1] in a.keys(): \n",
    "                        ls = a[row[i-1]]\n",
    "                        ls.append(row[i])\n",
    "                        a[row[i-1]] = ls\n",
    "        for key,value in a.items():\n",
    "            #print(value)\n",
    "            dataset.append(value)\n",
    "            #print(value)\n",
    "except Error as e:\n",
    "            print(\"Error while connecting to MySQL\", e)"
   ]
  },
  {
   "cell_type": "code",
   "execution_count": 8,
   "id": "409eefd6",
   "metadata": {},
   "outputs": [],
   "source": [
    "#from apyori import apriori\n",
    "from mlxtend.frequent_patterns import fpmax, fpgrowth\n",
    "from mlxtend.preprocessing import TransactionEncoder\n",
    "te = TransactionEncoder()\n",
    "te_ary = te.fit(dataset).transform(dataset)\n",
    "df = pd.DataFrame(te_ary, columns=te.columns_)"
   ]
  },
  {
   "cell_type": "code",
   "execution_count": 9,
   "id": "b5af0409",
   "metadata": {},
   "outputs": [],
   "source": [
    "frequent_sets = fpgrowth(df, min_support=0.0001,use_colnames=True) \n"
   ]
  },
  {
   "cell_type": "code",
   "execution_count": 10,
   "id": "ff0b9d81",
   "metadata": {},
   "outputs": [],
   "source": [
    "from mlxtend.frequent_patterns import association_rules\n",
    "rules = association_rules(frequent_sets, metric='confidence', min_threshold=0.9)\n",
    "rules[\"antecedent_len\"] = rules[\"antecedents\"].apply(lambda x:len(x))\n",
    "rules[\"consequent_len\"] = rules[\"consequents\"].apply(lambda x:len(x))\n",
    "#rules[(rules[\"antecedent_len\"] >= 2)& (rules[\"consequent_len\"] >=2)].sort_values(by=['support','confidence'], ascending=False).to_csv('has_promotion.csv')\n",
    "rules[(rules[\"antecedent_len\"] >= 1)& (rules[\"consequent_len\"] >=1)].sort_values(by=['support','confidence'], ascending=False).to_csv('A_year_association_fp_v2.csv')\n"
   ]
  }
 ],
 "metadata": {
  "kernelspec": {
   "display_name": "Python (env)",
   "language": "python",
   "name": "env"
  },
  "language_info": {
   "codemirror_mode": {
    "name": "ipython",
    "version": 3
   },
   "file_extension": ".py",
   "mimetype": "text/x-python",
   "name": "python",
   "nbconvert_exporter": "python",
   "pygments_lexer": "ipython3",
   "version": "3.9.7"
  }
 },
 "nbformat": 4,
 "nbformat_minor": 5
}
