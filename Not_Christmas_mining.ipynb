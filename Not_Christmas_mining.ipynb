{
 "cells": [
  {
   "cell_type": "code",
   "execution_count": 55,
   "id": "92970d20",
   "metadata": {},
   "outputs": [],
   "source": [
    "import pandas as pd"
   ]
  },
  {
   "cell_type": "code",
   "execution_count": 56,
   "id": "2e78b774",
   "metadata": {},
   "outputs": [
    {
     "name": "stdout",
     "output_type": "stream",
     "text": [
      "You're connected to database:  ('dmhw1',)\n",
      "data is fetched....\n"
     ]
    }
   ],
   "source": [
    "import mysql.connector as msql\n",
    "from mysql.connector import Error\n",
    "dataset = []\n",
    "try:\n",
    "    conn = msql.connect(host='localhost', database='DMHW1', user='root', password='TP6XU4JO3@@')\n",
    "    if conn.is_connected():\n",
    "        mycursor = conn.cursor()\n",
    "        mycursor.execute(\"select database();\")\n",
    "        record = mycursor.fetchone()\n",
    "        print(\"You're connected to database: \", record)\n",
    "        mycursor.execute(\"\"\"\n",
    "                            select \n",
    "                                pc.product_category,\n",
    "                                #c.product_name, \n",
    "                                d.gender,\n",
    "                                CONCAT('totally ',d.total_children,' children') as 'total_children',\n",
    "                                CONCAT('own ', d.num_cars_owned ,' cars') as 'owned_cars',\n",
    "                                CONCAT('totally ', d.num_children_at_home,' children at home') as 'children_at_home',\n",
    "                                CASE WHEN d.houseowner = 'Y' then 'Is houseowner'\n",
    "                                else 'Is not houseowner'\n",
    "                                end as 'houseowner',\n",
    "                                CASE WHEN b.day_of_month between 1 and 10 then 'month_begin'\n",
    "                                WHEN b.day_of_month between 11 and 20 then 'month_middle'\n",
    "                                ELSE 'month_end'\n",
    "                                END as 'day_of_the_month'\n",
    "                                #pr.promotion_name\n",
    "                                from DMHW1.sales_fact_1998 a \n",
    "                                join DMHW1.time_by_day b\n",
    "                                on a.time_id = b.time_id\n",
    "                                join DMHW1.product c \n",
    "                                on a.product_id = c.product_id \n",
    "                                join DMHW1.product_class pc\n",
    "                                on c.product_class_id = pc.product_class_id\n",
    "                                join DMHW1.customer d \n",
    "                                on a.customer_id = d.customer_id \n",
    "                                join DMHW1.promotion pr\n",
    "                                on a.promotion_id = pr.promotion_id\n",
    "                                where b.the_month != 'December'\n",
    "                                union \n",
    "                                select \n",
    "                                pc.product_category,\n",
    "                                #c.product_name,\n",
    "                                d.gender, \n",
    "                                CONCAT('totally ',d.total_children,' children') as 'total_children',\n",
    "                                CONCAT('own ', d.num_cars_owned ,' cars') as 'owned_cars',\n",
    "                                CONCAT('totally ', d.num_children_at_home,' children at home') as 'children_at_home',\n",
    "                                CASE WHEN d.houseowner = 'Y' then 'Is houseowner'\n",
    "                                else 'Is not houseowner'\n",
    "                                end as 'houseowner',\n",
    "                                CASE WHEN b.day_of_month between 1 and 10 then 'month_begin'\n",
    "                                WHEN b.day_of_month between 11 and 20 then 'month_middle'\n",
    "                                ELSE 'month_end'\n",
    "                                END as 'day_of_the_month'\n",
    "                                #pr.promotion_name\n",
    "                                from DMHW1.sales_fact_dec_1998 a\n",
    "                                join DMHW1.time_by_day b\n",
    "                                on a.time_id = b.time_id\n",
    "                                join DMHW1.product c \n",
    "                                on a.product_id = c.product_id \n",
    "                                join DMHW1.product_class pc\n",
    "                                on c.product_class_id = pc.product_class_id\n",
    "                                join DMHW1.customer d \n",
    "                                on a.customer_id = d.customer_id \n",
    "                                join DMHW1.promotion pr\n",
    "                                on a.promotion_id = pr.promotion_id\n",
    "                                where b.the_month != 'December' \n",
    "                        \"\"\")\n",
    "        print(\"data is fetched....\")\n",
    "        #loop through the data fetched\n",
    "        results = mycursor.fetchall()\n",
    "        a = dict()\n",
    "        for item in results:\n",
    "            lis = []\n",
    "            row = list(item)\n",
    "            for i in range(len(row)):\n",
    "                if type(row[i]) is not str:\n",
    "                    row[i] = str(row[i])\n",
    "                lis.append(row[i])\n",
    "            #print(lis)\n",
    "            dataset.append(lis)\n",
    "except Error as e:\n",
    "            print(\"Error while connecting to MySQL\", e)"
   ]
  },
  {
   "cell_type": "code",
   "execution_count": 57,
   "id": "2c0e0be4",
   "metadata": {},
   "outputs": [],
   "source": [
    "from mlxtend.frequent_patterns import fpmax, fpgrowth\n",
    "from mlxtend.preprocessing import TransactionEncoder\n",
    "te = TransactionEncoder()\n",
    "te_ary = te.fit(dataset).transform(dataset)\n",
    "df = pd.DataFrame(te_ary, columns=te.columns_)"
   ]
  },
  {
   "cell_type": "code",
   "execution_count": 58,
   "id": "bcd8f9e9",
   "metadata": {},
   "outputs": [],
   "source": [
    "frequent_sets = fpgrowth(df, min_support=0.02,use_colnames=True) "
   ]
  },
  {
   "cell_type": "code",
   "execution_count": 59,
   "id": "a0c37538",
   "metadata": {},
   "outputs": [],
   "source": [
    "from mlxtend.frequent_patterns import association_rules\n",
    "rules = association_rules(frequent_sets, metric='confidence', min_threshold=0.8)\n",
    "rules[\"antecedent_len\"] = rules[\"antecedents\"].apply(lambda x:len(x))\n",
    "rules[\"consequent_len\"] = rules[\"consequents\"].apply(lambda x:len(x))\n",
    "#rules[(rules[\"antecedent_len\"] >= 2)& (rules[\"consequent_len\"] >=2)].sort_values(by=['support','confidence'], ascending=False).to_csv('has_promotion.csv')\n",
    "rules[(rules[\"antecedent_len\"] >= 1)& (rules[\"consequent_len\"] >=1)].sort_values(by=['confidence'], ascending=False).to_csv('not_chrismas_mining_3.csv')\n"
   ]
  }
 ],
 "metadata": {
  "kernelspec": {
   "display_name": "Python (env)",
   "language": "python",
   "name": "env"
  },
  "language_info": {
   "codemirror_mode": {
    "name": "ipython",
    "version": 3
   },
   "file_extension": ".py",
   "mimetype": "text/x-python",
   "name": "python",
   "nbconvert_exporter": "python",
   "pygments_lexer": "ipython3",
   "version": "3.9.7"
  }
 },
 "nbformat": 4,
 "nbformat_minor": 5
}
